{
 "cells": [
  {
   "cell_type": "markdown",
   "id": "d93e163e-ef15-4989-81f9-1ed7d236019f",
   "metadata": {},
   "source": [
    "# Homework 0 - Gunshot Deaths in the USA"
   ]
  },
  {
   "cell_type": "markdown",
   "id": "19ebc8af-5330-4e42-96b8-40ca92f277f3",
   "metadata": {},
   "source": [
    "## Load dataset"
   ]
  },
  {
   "cell_type": "code",
   "execution_count": 63,
   "id": "737efd02-6038-42c2-91a6-5215d6a8ddaf",
   "metadata": {},
   "outputs": [
    {
     "data": {
      "text/html": [
       "<div>\n",
       "<style scoped>\n",
       "    .dataframe tbody tr th:only-of-type {\n",
       "        vertical-align: middle;\n",
       "    }\n",
       "\n",
       "    .dataframe tbody tr th {\n",
       "        vertical-align: top;\n",
       "    }\n",
       "\n",
       "    .dataframe thead th {\n",
       "        text-align: right;\n",
       "    }\n",
       "</style>\n",
       "<table border=\"1\" class=\"dataframe\">\n",
       "  <thead>\n",
       "    <tr style=\"text-align: right;\">\n",
       "      <th></th>\n",
       "      <th>Unnamed: 0</th>\n",
       "      <th>Intent</th>\n",
       "      <th>Gender</th>\n",
       "      <th>Age</th>\n",
       "      <th>Race</th>\n",
       "      <th>Deaths</th>\n",
       "      <th>Population</th>\n",
       "      <th>Rate</th>\n",
       "    </tr>\n",
       "  </thead>\n",
       "  <tbody>\n",
       "    <tr>\n",
       "      <th>0</th>\n",
       "      <td>1</td>\n",
       "      <td>None selected</td>\n",
       "      <td>None selected</td>\n",
       "      <td>None selected</td>\n",
       "      <td>None selected</td>\n",
       "      <td>33599</td>\n",
       "      <td>316299978</td>\n",
       "      <td>10.6</td>\n",
       "    </tr>\n",
       "    <tr>\n",
       "      <th>1</th>\n",
       "      <td>2</td>\n",
       "      <td>None selected</td>\n",
       "      <td>None selected</td>\n",
       "      <td>None selected</td>\n",
       "      <td>White</td>\n",
       "      <td>22079</td>\n",
       "      <td>197369634</td>\n",
       "      <td>11.2</td>\n",
       "    </tr>\n",
       "    <tr>\n",
       "      <th>2</th>\n",
       "      <td>3</td>\n",
       "      <td>None selected</td>\n",
       "      <td>None selected</td>\n",
       "      <td>None selected</td>\n",
       "      <td>Black</td>\n",
       "      <td>7765</td>\n",
       "      <td>38896382</td>\n",
       "      <td>20.0</td>\n",
       "    </tr>\n",
       "    <tr>\n",
       "      <th>3</th>\n",
       "      <td>4</td>\n",
       "      <td>None selected</td>\n",
       "      <td>None selected</td>\n",
       "      <td>None selected</td>\n",
       "      <td>Hispanic</td>\n",
       "      <td>3007</td>\n",
       "      <td>54049078</td>\n",
       "      <td>5.6</td>\n",
       "    </tr>\n",
       "    <tr>\n",
       "      <th>4</th>\n",
       "      <td>5</td>\n",
       "      <td>None selected</td>\n",
       "      <td>None selected</td>\n",
       "      <td>None selected</td>\n",
       "      <td>Asian/Pacific Islander</td>\n",
       "      <td>442</td>\n",
       "      <td>16315561</td>\n",
       "      <td>2.7</td>\n",
       "    </tr>\n",
       "  </tbody>\n",
       "</table>\n",
       "</div>"
      ],
      "text/plain": [
       "   Unnamed: 0         Intent         Gender            Age  \\\n",
       "0           1  None selected  None selected  None selected   \n",
       "1           2  None selected  None selected  None selected   \n",
       "2           3  None selected  None selected  None selected   \n",
       "3           4  None selected  None selected  None selected   \n",
       "4           5  None selected  None selected  None selected   \n",
       "\n",
       "                     Race  Deaths  Population  Rate  \n",
       "0           None selected   33599   316299978  10.6  \n",
       "1                   White   22079   197369634  11.2  \n",
       "2                   Black    7765    38896382  20.0  \n",
       "3                Hispanic    3007    54049078   5.6  \n",
       "4  Asian/Pacific Islander     442    16315561   2.7  "
      ]
     },
     "execution_count": 63,
     "metadata": {},
     "output_type": "execute_result"
    }
   ],
   "source": [
    "import pandas as pd\n",
    "data = pd.read_csv('gunshot_deaths.csv')\n",
    "data.head()"
   ]
  },
  {
   "cell_type": "code",
   "execution_count": 6,
   "id": "3bae0046-e7ed-4dfc-831a-dd8a1c78a3a1",
   "metadata": {},
   "outputs": [
    {
     "data": {
      "text/plain": [
       "540"
      ]
     },
     "execution_count": 6,
     "metadata": {},
     "output_type": "execute_result"
    }
   ],
   "source": [
    "# total number of data\n",
    "len(data)"
   ]
  },
  {
   "cell_type": "markdown",
   "id": "387cb1ff-8d40-4725-a7e3-b50b6fd5f401",
   "metadata": {},
   "source": [
    "## Feature Analysis"
   ]
  },
  {
   "cell_type": "code",
   "execution_count": 30,
   "id": "d330e5b3-851c-4898-9a70-da9ea487843f",
   "metadata": {},
   "outputs": [],
   "source": [
    "# extract column names\n",
    "cols = data.columns.tolist()[1:]\n",
    "# extract group attributes -> the ones that characterize a certain type of death\n",
    "group_atts = cols[0:4]\n",
    "# make a dictionary out of them:\n",
    "atts_dict = {group_atts[i] : i for i in range(len(group_atts))}"
   ]
  },
  {
   "cell_type": "code",
   "execution_count": 34,
   "id": "361fec57-1f49-4d0e-baa5-e0dbd5e6d5c3",
   "metadata": {},
   "outputs": [
    {
     "name": "stdout",
     "output_type": "stream",
     "text": [
      "['Intent', 'Gender', 'Age', 'Race', 'Deaths', 'Population', 'Rate']\n",
      "['Intent', 'Gender', 'Age', 'Race']\n",
      "{'Intent': 0, 'Gender': 1, 'Age': 2, 'Race': 3}\n"
     ]
    }
   ],
   "source": [
    "print(cols)\n",
    "print(group_atts)\n",
    "print(atts_dict)"
   ]
  },
  {
   "cell_type": "markdown",
   "id": "62ea5f11-7c6c-4aef-a2ee-4df3c4443ec3",
   "metadata": {
    "tags": []
   },
   "source": [
    "## Total number of deaths: Table vs Calculation\n",
    "\n",
    "Total number of deaths should be the number of deaths in the row with all group attributes set to 'None selected'.\n",
    "The sum of deaths in the rows with no 'None selected' attributes should add up to this value. This is going to be verified."
   ]
  },
  {
   "cell_type": "code",
   "execution_count": 51,
   "id": "ff7c2525-e1dc-47eb-9592-45bfd260fa66",
   "metadata": {},
   "outputs": [
    {
     "data": {
      "text/plain": [
       "33599"
      ]
     },
     "execution_count": 51,
     "metadata": {},
     "output_type": "execute_result"
    }
   ],
   "source": [
    "# Total number of deaths from the table:\n",
    "targets = ['None selected'] * 4\n",
    "total_deaths = data[(data[group_atts] == targets).all(axis=1)]['Deaths'].iloc[0]\n",
    "total_deaths"
   ]
  },
  {
   "cell_type": "code",
   "execution_count": 66,
   "id": "2e20523a-ef76-41c7-a623-3d3f04d31b2b",
   "metadata": {},
   "outputs": [
    {
     "data": {
      "text/plain": [
       "33595"
      ]
     },
     "execution_count": 66,
     "metadata": {},
     "output_type": "execute_result"
    }
   ],
   "source": [
    "# Total number of deaths calculation:\n",
    "targets = ['None selected'] * 4\n",
    "sum(data[~(data[group_atts] == targets).any(axis=1)]['Deaths'])"
   ]
  },
  {
   "cell_type": "markdown",
   "id": "71c6db64-c43f-4ede-ae0b-9ff3bf7aa53f",
   "metadata": {},
   "source": [
    "### Claim #1 -> Nearly *two-thirds* of gun deaths are *suicides*"
   ]
  },
  {
   "cell_type": "code",
   "execution_count": 81,
   "id": "3a151c10-af5c-4bf3-8ffd-dfce34ab7487",
   "metadata": {},
   "outputs": [
    {
     "name": "stdout",
     "output_type": "stream",
     "text": [
      "Suicide deaths: 21058\n",
      "Suicide rate: 62.67%\n"
     ]
    }
   ],
   "source": [
    "targets = ['None selected'] * 4\n",
    "targets[atts_dict['Intent']] = 'Suicide'\n",
    "suicide_deaths = data[(data[group_atts] == targets).all(axis=1)]['Deaths'].iloc[0]\n",
    "suicide_rate = suicide_deaths / total_deaths\n",
    "print('Suicide deaths:', suicide_deaths)\n",
    "print('Suicide rate: {:0.2f}%'.format(suicide_rate * 100))"
   ]
  },
  {
   "cell_type": "markdown",
   "id": "7d1c07a1-c3c1-4c8e-a9a7-a7947d37a20d",
   "metadata": {},
   "source": [
    "We see that 62.67% of all gunshot deaths are suicides, which is nearly two-thirds."
   ]
  },
  {
   "cell_type": "markdown",
   "id": "2b6a79f3-1197-4b09-91e7-fd32be7ddbfa",
   "metadata": {},
   "source": [
    "### Claim #2 -> More than *85 percent* of suicide victims are *male*"
   ]
  },
  {
   "cell_type": "code",
   "execution_count": 85,
   "id": "ce62423f-68ed-47b6-a89a-65f8bc2769e6",
   "metadata": {},
   "outputs": [
    {
     "name": "stdout",
     "output_type": "stream",
     "text": [
      "Male suicide deaths: 18162\n",
      "Male suicide rate: 86.25%\n"
     ]
    }
   ],
   "source": [
    "targets = ['None selected'] * 4\n",
    "targets[atts_dict['Intent']] = 'Suicide'\n",
    "targets[atts_dict['Gender']] = 'Male'\n",
    "male_suicide_deaths = data[(data[group_atts] == targets).all(axis=1)]['Deaths'].iloc[0]\n",
    "male_suicide_rate = male_suicide_deaths / suicide_deaths\n",
    "print('Male suicide deaths:', male_suicide_deaths)\n",
    "print('Male suicide rate: {:0.2f}%'.format(male_suicide_rate * 100))"
   ]
  },
  {
   "cell_type": "markdown",
   "id": "077c3acb-c9fb-41b6-a803-480ad3f9c62f",
   "metadata": {},
   "source": [
    "### Claim #3 -> Around *a third* of all gun deaths are *homicides*"
   ]
  },
  {
   "cell_type": "code",
   "execution_count": 87,
   "id": "9516e0c1-e06e-412e-99d6-bc0b6e33df6c",
   "metadata": {},
   "outputs": [
    {
     "name": "stdout",
     "output_type": "stream",
     "text": [
      "Homicide deaths: 11726\n",
      "Homicide rate: 34.90%\n"
     ]
    }
   ],
   "source": [
    "targets = ['None selected'] * 4\n",
    "targets[atts_dict['Intent']] = 'Homicide'\n",
    "homicide_deaths = data[(data[group_atts] == targets).all(axis=1)]['Deaths'].iloc[0]\n",
    "homicide_rate = homicide_deaths / total_deaths\n",
    "print('Homicide deaths:', homicide_deaths)\n",
    "print('Homicide rate: {:0.2f}%'.format(homicide_rate * 100))"
   ]
  },
  {
   "cell_type": "markdown",
   "id": "217a3dd7-8d48-4413-9dd7-ed9c5c53e09e",
   "metadata": {},
   "source": [
    "34.9% of all gun deaths are homicides, which makes up for around 1/3."
   ]
  },
  {
   "cell_type": "markdown",
   "id": "e2dc6e1b-7eae-48fa-8977-34d43607ef30",
   "metadata": {},
   "source": [
    "### Claim #4 -> Around *two-thirds* of homicide victims who are *males* in the *age-group of 15--34* are *black*"
   ]
  },
  {
   "cell_type": "code",
   "execution_count": 92,
   "id": "a9d7fc6e-2363-4941-9751-d851144a258e",
   "metadata": {},
   "outputs": [
    {
     "name": "stdout",
     "output_type": "stream",
     "text": [
      "Young male deaths: 6520\n",
      "Young black male deaths: 4312\n",
      "Black deaths rate: 66.13%\n"
     ]
    }
   ],
   "source": [
    "targets = ['None selected'] * 4\n",
    "targets[atts_dict['Intent']] = 'Homicide'\n",
    "targets[atts_dict['Gender']] = 'Male'\n",
    "targets[atts_dict['Age']] = '15 - 34'\n",
    "young_male_deaths = data[(data[group_atts] == targets).all(axis=1)]['Deaths'].iloc[0]\n",
    "\n",
    "targets[atts_dict['Race']] = 'Black'\n",
    "black_deaths = data[(data[group_atts] == targets).all(axis=1)]['Deaths'].iloc[0]\n",
    "\n",
    "black_rate = black_deaths / young_male_deaths\n",
    "print('Young male deaths:', young_male_deaths)\n",
    "print('Young black male deaths:', black_deaths)\n",
    "print('Black deaths rate: {:0.2f}%'.format(black_rate * 100))\n"
   ]
  },
  {
   "cell_type": "markdown",
   "id": "e83f312b-5b14-477d-bc88-6be548ee39e9",
   "metadata": {},
   "source": [
    "66.13% or around 2/3 of all young male deaths belong to the black race."
   ]
  },
  {
   "cell_type": "markdown",
   "id": "f0608003-25d7-4b7f-b580-2453f9e8e322",
   "metadata": {},
   "source": [
    "### Claim #5 -> *Women* constitute only *15 percent* of the total *homicide* victims."
   ]
  },
  {
   "cell_type": "code",
   "execution_count": 93,
   "id": "6445b54b-4a42-4b7f-a0bd-a519ebb4f053",
   "metadata": {},
   "outputs": [
    {
     "name": "stdout",
     "output_type": "stream",
     "text": [
      "Women homicide deaths: 1791\n",
      "Women homicide rate: 15.27%\n"
     ]
    }
   ],
   "source": [
    "targets = ['None selected'] * 4\n",
    "targets[atts_dict['Intent']] = 'Homicide'\n",
    "targets[atts_dict['Gender']] = 'Female'\n",
    "women_homicide_deaths = data[(data[group_atts] == targets).all(axis=1)]['Deaths'].iloc[0]\n",
    "women_homicide_rate = women_homicide_deaths / homicide_deaths\n",
    "print('Women homicide deaths:', women_homicide_deaths)\n",
    "print('Women homicide rate: {:0.2f}%'.format(women_homicide_rate * 100))"
   ]
  }
 ],
 "metadata": {
  "kernelspec": {
   "display_name": "Python [conda env:ada] *",
   "language": "python",
   "name": "conda-env-ada-py"
  },
  "language_info": {
   "codemirror_mode": {
    "name": "ipython",
    "version": 3
   },
   "file_extension": ".py",
   "mimetype": "text/x-python",
   "name": "python",
   "nbconvert_exporter": "python",
   "pygments_lexer": "ipython3",
   "version": "3.9.13"
  }
 },
 "nbformat": 4,
 "nbformat_minor": 5
}
